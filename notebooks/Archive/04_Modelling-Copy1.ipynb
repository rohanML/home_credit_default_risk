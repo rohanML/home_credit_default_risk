{
 "cells": [
  {
   "cell_type": "markdown",
   "id": "split-concept",
   "metadata": {},
   "source": [
    "# Home Credit - Modelling\n",
    "\n",
    "In this notebook, we will\n",
    "1. select an appropriate __evaluation matrix__\n",
    "2. device our __modelling and validation strategy__\n",
    "3. select the __best model__ and\n",
    "4. evaluate __business impact__\n",
    "\n",
    "We will use the tidy data with newly derived features from the Feature Engineering notebook."
   ]
  },
  {
   "cell_type": "code",
   "execution_count": 12,
   "id": "automatic-birth",
   "metadata": {},
   "outputs": [],
   "source": [
    "import numpy as np \n",
    "import pandas as pd \n",
    "import matplotlib.pyplot as plt \n",
    "from matplotlib.ticker import PercentFormatter\n",
    "import seaborn as sns\n",
    "from scipy.stats import loguniform\n",
    "\n",
    "from sklearn.model_selection import KFold, StratifiedKFold\n",
    "from sklearn.impute import SimpleImputer\n",
    "from sklearn.preprocessing import StandardScaler\n",
    "from sklearn.pipeline import Pipeline\n",
    "from sklearn.compose import ColumnTransformer\n",
    "from sklearn.model_selection import RandomizedSearchCV\n",
    "\n",
    "\n",
    "from sklearn.dummy import DummyClassifier\n",
    "from sklearn.linear_model import LogisticRegression\n",
    "import xgboost as xgb\n",
    "import lightgbm as lgb\n",
    "from sklearn.metrics import roc_auc_score, roc_curve, confusion_matrix, classification_report\n",
    "\n",
    "%matplotlib inline\n",
    "%precision %.2f\n",
    "\n",
    "plt.style.use('bmh')\n",
    "pd.set_option('display.max_rows', 30)\n",
    "pd.set_option('display.min_rows', 10)\n",
    "pd.set_option('display.max_columns', 100)\n",
    "\n",
    "# We will work with ~25% data in the process development phase.\n",
    "process_dev_flag = False\n",
    "random_seed = 79"
   ]
  },
  {
   "cell_type": "code",
   "execution_count": 13,
   "id": "regional-sheep",
   "metadata": {},
   "outputs": [],
   "source": [
    "train_path = '../data/interim/df_train_fe.csv'\n",
    "test_path = '../data/interim/df_test_fe.csv'\n",
    "dtype_path = '../data/interim/data_types_fe.csv'"
   ]
  },
  {
   "cell_type": "code",
   "execution_count": 14,
   "id": "anticipated-innocent",
   "metadata": {},
   "outputs": [
    {
     "data": {
      "text/plain": [
       "((215249, 188), (92250, 188))"
      ]
     },
     "execution_count": 14,
     "metadata": {},
     "output_type": "execute_result"
    }
   ],
   "source": [
    "df_train = pd.read_csv(train_path,index_col=0)\n",
    "df_test = pd.read_csv(test_path,index_col=0)\n",
    "\n",
    "df_dtype = pd.read_csv(dtype_path,index_col=0)\n",
    "dict_dtype = df_dtype.dtype.to_dict()\n",
    "\n",
    "df_train.shape, df_test.shape"
   ]
  },
  {
   "cell_type": "code",
   "execution_count": 15,
   "id": "continent-script",
   "metadata": {},
   "outputs": [],
   "source": [
    "df_train = df_train.astype(dict_dtype)\n",
    "df_test = df_test.astype(dict_dtype)"
   ]
  },
  {
   "cell_type": "code",
   "execution_count": 16,
   "id": "combined-carpet",
   "metadata": {},
   "outputs": [
    {
     "name": "stdout",
     "output_type": "stream",
     "text": [
      "<class 'pandas.core.frame.DataFrame'>\n",
      "Int64Index: 215249 entries, 0 to 215248\n",
      "Columns: 188 entries, sk_id_curr to total_contact_flags\n",
      "dtypes: float16(90), float64(28), int64(7), int8(35), object(28)\n",
      "memory usage: 149.2+ MB\n"
     ]
    }
   ],
   "source": [
    "df_train.info()"
   ]
  },
  {
   "cell_type": "code",
   "execution_count": 17,
   "id": "extensive-aspect",
   "metadata": {},
   "outputs": [
    {
     "name": "stdout",
     "output_type": "stream",
     "text": [
      "<class 'pandas.core.frame.DataFrame'>\n",
      "Int64Index: 92250 entries, 0 to 92249\n",
      "Columns: 188 entries, sk_id_curr to total_contact_flags\n",
      "dtypes: float16(90), float64(28), int64(7), int8(35), object(28)\n",
      "memory usage: 64.0+ MB\n"
     ]
    }
   ],
   "source": [
    "df_test.info()"
   ]
  },
  {
   "cell_type": "code",
   "execution_count": 18,
   "id": "extra-township",
   "metadata": {},
   "outputs": [
    {
     "data": {
      "text/html": [
       "<div>\n",
       "<style scoped>\n",
       "    .dataframe tbody tr th:only-of-type {\n",
       "        vertical-align: middle;\n",
       "    }\n",
       "\n",
       "    .dataframe tbody tr th {\n",
       "        vertical-align: top;\n",
       "    }\n",
       "\n",
       "    .dataframe thead th {\n",
       "        text-align: right;\n",
       "    }\n",
       "</style>\n",
       "<table border=\"1\" class=\"dataframe\">\n",
       "  <thead>\n",
       "    <tr style=\"text-align: right;\">\n",
       "      <th></th>\n",
       "      <th>sk_id_curr</th>\n",
       "      <th>target</th>\n",
       "      <th>name_contract_type</th>\n",
       "      <th>code_gender</th>\n",
       "      <th>flag_own_car</th>\n",
       "      <th>flag_own_realty</th>\n",
       "      <th>cnt_children</th>\n",
       "      <th>amt_income_total</th>\n",
       "      <th>amt_credit</th>\n",
       "      <th>amt_annuity</th>\n",
       "      <th>amt_goods_price</th>\n",
       "      <th>name_type_suite</th>\n",
       "      <th>name_income_type</th>\n",
       "      <th>name_education_type</th>\n",
       "      <th>name_family_status</th>\n",
       "      <th>name_housing_type</th>\n",
       "      <th>region_population_relative</th>\n",
       "      <th>days_birth</th>\n",
       "      <th>days_employed</th>\n",
       "      <th>days_registration</th>\n",
       "      <th>days_id_publish</th>\n",
       "      <th>own_car_age</th>\n",
       "      <th>flag_mobil</th>\n",
       "      <th>flag_work_phone</th>\n",
       "      <th>flag_cont_mobile</th>\n",
       "      <th>flag_phone</th>\n",
       "      <th>flag_email</th>\n",
       "      <th>occupation_type</th>\n",
       "      <th>cnt_fam_members</th>\n",
       "      <th>region_rating_client_w_city</th>\n",
       "      <th>weekday_appr_process_start</th>\n",
       "      <th>hour_appr_process_start</th>\n",
       "      <th>reg_region_not_live_region</th>\n",
       "      <th>reg_region_not_work_region</th>\n",
       "      <th>live_region_not_work_region</th>\n",
       "      <th>reg_city_not_live_city</th>\n",
       "      <th>reg_city_not_work_city</th>\n",
       "      <th>live_city_not_work_city</th>\n",
       "      <th>organization_type</th>\n",
       "      <th>ext_source_2</th>\n",
       "      <th>ext_source_3</th>\n",
       "      <th>basementarea_avg</th>\n",
       "      <th>floorsmax_avg</th>\n",
       "      <th>floorsmin_avg</th>\n",
       "      <th>landarea_avg</th>\n",
       "      <th>livingarea_avg</th>\n",
       "      <th>fondkapremont_mode</th>\n",
       "      <th>housetype_mode</th>\n",
       "      <th>wallsmaterial_mode</th>\n",
       "      <th>emergencystate_mode</th>\n",
       "      <th>...</th>\n",
       "      <th>nflag_insured_on_approval_sum</th>\n",
       "      <th>nflag_last_appl_per_contract_sum</th>\n",
       "      <th>nflag_last_appl_in_day_sum</th>\n",
       "      <th>pc_latest_contract_status_last</th>\n",
       "      <th>cr_latest_contract_status_last</th>\n",
       "      <th>name_client_type_last</th>\n",
       "      <th>name_yield_group_grp_mode</th>\n",
       "      <th>name_yield_group_last</th>\n",
       "      <th>name_payment_type_grp_mode</th>\n",
       "      <th>name_payment_type_last</th>\n",
       "      <th>product_combination_last</th>\n",
       "      <th>name_type_suite_last</th>\n",
       "      <th>channel_type_grp_mode</th>\n",
       "      <th>channel_type_last</th>\n",
       "      <th>code_reject_reason_grp_mode</th>\n",
       "      <th>code_reject_reason_last</th>\n",
       "      <th>prev_cnt_ct_cash_loans</th>\n",
       "      <th>prev_cnt_ct_consumer_loans</th>\n",
       "      <th>prev_cnt_ct_revolving_loans</th>\n",
       "      <th>prev_cnt_cs_approved</th>\n",
       "      <th>prev_cnt_cs_canceled</th>\n",
       "      <th>prev_cnt_cs_refused</th>\n",
       "      <th>prev_cnt_cs_unused_offer</th>\n",
       "      <th>prev_cnt_pt_xna</th>\n",
       "      <th>prev_cnt_pt_walk-in</th>\n",
       "      <th>prev_cnt_pt_x-sell</th>\n",
       "      <th>bc_cnt_loans</th>\n",
       "      <th>bc_cnt_credit_type</th>\n",
       "      <th>bc_sum_cnt_credit_prolong</th>\n",
       "      <th>bc_last_days</th>\n",
       "      <th>bc_amt_max_credit_overdue</th>\n",
       "      <th>bb_last_loan_status</th>\n",
       "      <th>bb_cnt_unique_loan_obs</th>\n",
       "      <th>bc_cnt_car_loan</th>\n",
       "      <th>bc_cnt_cr_type_others</th>\n",
       "      <th>bc_cnt_credit_card</th>\n",
       "      <th>bc_cnt_mortgage</th>\n",
       "      <th>bc_cnt_active</th>\n",
       "      <th>bc_cnt_cr_status_others</th>\n",
       "      <th>rt_credit_income</th>\n",
       "      <th>rt_annuity_income</th>\n",
       "      <th>rt_annuity_credit</th>\n",
       "      <th>rt_goods_price_credit</th>\n",
       "      <th>total_document_flags</th>\n",
       "      <th>rt_days_employed_birth</th>\n",
       "      <th>rt_days_id_birth</th>\n",
       "      <th>rt_phone_changed_birth</th>\n",
       "      <th>avg_family_income</th>\n",
       "      <th>avg_family_credit</th>\n",
       "      <th>total_contact_flags</th>\n",
       "    </tr>\n",
       "  </thead>\n",
       "  <tbody>\n",
       "    <tr>\n",
       "      <th>0</th>\n",
       "      <td>389706</td>\n",
       "      <td>0</td>\n",
       "      <td>Revolving loans</td>\n",
       "      <td>0</td>\n",
       "      <td>0</td>\n",
       "      <td>0</td>\n",
       "      <td>2</td>\n",
       "      <td>45000.0</td>\n",
       "      <td>135000.0</td>\n",
       "      <td>6750.0</td>\n",
       "      <td>135000.0</td>\n",
       "      <td>Unaccompanied</td>\n",
       "      <td>Working</td>\n",
       "      <td>Secondary / secondary special</td>\n",
       "      <td>Married</td>\n",
       "      <td>House / apartment</td>\n",
       "      <td>0.018204</td>\n",
       "      <td>-13349</td>\n",
       "      <td>-2716.0</td>\n",
       "      <td>-3004.0</td>\n",
       "      <td>-4335</td>\n",
       "      <td>NaN</td>\n",
       "      <td>1</td>\n",
       "      <td>0</td>\n",
       "      <td>1</td>\n",
       "      <td>1</td>\n",
       "      <td>0</td>\n",
       "      <td>Sales staff</td>\n",
       "      <td>4.0</td>\n",
       "      <td>3</td>\n",
       "      <td>SATURDAY</td>\n",
       "      <td>12</td>\n",
       "      <td>0</td>\n",
       "      <td>0</td>\n",
       "      <td>0</td>\n",
       "      <td>0</td>\n",
       "      <td>0</td>\n",
       "      <td>0</td>\n",
       "      <td>Self-employed</td>\n",
       "      <td>0.734375</td>\n",
       "      <td>0.667480</td>\n",
       "      <td>NaN</td>\n",
       "      <td>NaN</td>\n",
       "      <td>NaN</td>\n",
       "      <td>NaN</td>\n",
       "      <td>NaN</td>\n",
       "      <td>NaN</td>\n",
       "      <td>NaN</td>\n",
       "      <td>NaN</td>\n",
       "      <td>NaN</td>\n",
       "      <td>...</td>\n",
       "      <td>3.0</td>\n",
       "      <td>5.0</td>\n",
       "      <td>5.0</td>\n",
       "      <td>Active</td>\n",
       "      <td>NaN</td>\n",
       "      <td>Repeater</td>\n",
       "      <td>high</td>\n",
       "      <td>low_action</td>\n",
       "      <td>Cash through the bank</td>\n",
       "      <td>Cash through the bank</td>\n",
       "      <td>POS household without interest</td>\n",
       "      <td>Unaccompanied</td>\n",
       "      <td>Credit and cash offices</td>\n",
       "      <td>Country-wide</td>\n",
       "      <td>XAP</td>\n",
       "      <td>XAP</td>\n",
       "      <td>2.0</td>\n",
       "      <td>3.0</td>\n",
       "      <td>0.0</td>\n",
       "      <td>4.0</td>\n",
       "      <td>0.0</td>\n",
       "      <td>1.0</td>\n",
       "      <td>0.0</td>\n",
       "      <td>3.0</td>\n",
       "      <td>0.0</td>\n",
       "      <td>2.0</td>\n",
       "      <td>2.0</td>\n",
       "      <td>1.0</td>\n",
       "      <td>0.0</td>\n",
       "      <td>-10.0</td>\n",
       "      <td>0.0</td>\n",
       "      <td>NaN</td>\n",
       "      <td>0.0</td>\n",
       "      <td>0.0</td>\n",
       "      <td>0.0</td>\n",
       "      <td>0.0</td>\n",
       "      <td>0.0</td>\n",
       "      <td>1.0</td>\n",
       "      <td>0.0</td>\n",
       "      <td>3.000000</td>\n",
       "      <td>0.150000</td>\n",
       "      <td>0.050000</td>\n",
       "      <td>1.000000</td>\n",
       "      <td>0</td>\n",
       "      <td>0.203461</td>\n",
       "      <td>0.324743</td>\n",
       "      <td>0.142183</td>\n",
       "      <td>11250.0</td>\n",
       "      <td>33750.0</td>\n",
       "      <td>3</td>\n",
       "    </tr>\n",
       "    <tr>\n",
       "      <th>1</th>\n",
       "      <td>225912</td>\n",
       "      <td>0</td>\n",
       "      <td>Revolving loans</td>\n",
       "      <td>1</td>\n",
       "      <td>0</td>\n",
       "      <td>0</td>\n",
       "      <td>1</td>\n",
       "      <td>103500.0</td>\n",
       "      <td>247500.0</td>\n",
       "      <td>12375.0</td>\n",
       "      <td>247500.0</td>\n",
       "      <td>Unaccompanied</td>\n",
       "      <td>Working</td>\n",
       "      <td>Secondary / secondary special</td>\n",
       "      <td>Widow</td>\n",
       "      <td>Rented apartment</td>\n",
       "      <td>0.020706</td>\n",
       "      <td>-15566</td>\n",
       "      <td>-648.0</td>\n",
       "      <td>-649.0</td>\n",
       "      <td>-4297</td>\n",
       "      <td>NaN</td>\n",
       "      <td>1</td>\n",
       "      <td>0</td>\n",
       "      <td>1</td>\n",
       "      <td>0</td>\n",
       "      <td>0</td>\n",
       "      <td>Laborers</td>\n",
       "      <td>2.0</td>\n",
       "      <td>2</td>\n",
       "      <td>WEDNESDAY</td>\n",
       "      <td>7</td>\n",
       "      <td>0</td>\n",
       "      <td>0</td>\n",
       "      <td>0</td>\n",
       "      <td>0</td>\n",
       "      <td>0</td>\n",
       "      <td>0</td>\n",
       "      <td>Industry: type 7</td>\n",
       "      <td>0.544922</td>\n",
       "      <td>0.845215</td>\n",
       "      <td>NaN</td>\n",
       "      <td>NaN</td>\n",
       "      <td>NaN</td>\n",
       "      <td>NaN</td>\n",
       "      <td>NaN</td>\n",
       "      <td>NaN</td>\n",
       "      <td>NaN</td>\n",
       "      <td>NaN</td>\n",
       "      <td>NaN</td>\n",
       "      <td>...</td>\n",
       "      <td>0.0</td>\n",
       "      <td>1.0</td>\n",
       "      <td>1.0</td>\n",
       "      <td>Completed</td>\n",
       "      <td>NaN</td>\n",
       "      <td>New</td>\n",
       "      <td>low_normal</td>\n",
       "      <td>low_normal</td>\n",
       "      <td>Cash through the bank</td>\n",
       "      <td>Cash through the bank</td>\n",
       "      <td>POS mobile without interest</td>\n",
       "      <td>NaN</td>\n",
       "      <td>Country-wide</td>\n",
       "      <td>Country-wide</td>\n",
       "      <td>XAP</td>\n",
       "      <td>XAP</td>\n",
       "      <td>0.0</td>\n",
       "      <td>1.0</td>\n",
       "      <td>0.0</td>\n",
       "      <td>1.0</td>\n",
       "      <td>0.0</td>\n",
       "      <td>0.0</td>\n",
       "      <td>0.0</td>\n",
       "      <td>1.0</td>\n",
       "      <td>0.0</td>\n",
       "      <td>0.0</td>\n",
       "      <td>5.0</td>\n",
       "      <td>2.0</td>\n",
       "      <td>1.0</td>\n",
       "      <td>-6.0</td>\n",
       "      <td>0.0</td>\n",
       "      <td>NaN</td>\n",
       "      <td>0.0</td>\n",
       "      <td>0.0</td>\n",
       "      <td>0.0</td>\n",
       "      <td>4.0</td>\n",
       "      <td>0.0</td>\n",
       "      <td>3.0</td>\n",
       "      <td>0.0</td>\n",
       "      <td>2.391304</td>\n",
       "      <td>0.119565</td>\n",
       "      <td>0.050000</td>\n",
       "      <td>1.000000</td>\n",
       "      <td>0</td>\n",
       "      <td>0.041629</td>\n",
       "      <td>0.276050</td>\n",
       "      <td>0.027303</td>\n",
       "      <td>51750.0</td>\n",
       "      <td>123750.0</td>\n",
       "      <td>2</td>\n",
       "    </tr>\n",
       "    <tr>\n",
       "      <th>2</th>\n",
       "      <td>405407</td>\n",
       "      <td>0</td>\n",
       "      <td>Revolving loans</td>\n",
       "      <td>1</td>\n",
       "      <td>0</td>\n",
       "      <td>1</td>\n",
       "      <td>0</td>\n",
       "      <td>90000.0</td>\n",
       "      <td>135000.0</td>\n",
       "      <td>6750.0</td>\n",
       "      <td>135000.0</td>\n",
       "      <td>Unaccompanied</td>\n",
       "      <td>Commercial associate</td>\n",
       "      <td>Secondary / secondary special</td>\n",
       "      <td>Single / not married</td>\n",
       "      <td>House / apartment</td>\n",
       "      <td>0.025162</td>\n",
       "      <td>-14437</td>\n",
       "      <td>-352.0</td>\n",
       "      <td>-786.0</td>\n",
       "      <td>-5261</td>\n",
       "      <td>NaN</td>\n",
       "      <td>1</td>\n",
       "      <td>0</td>\n",
       "      <td>1</td>\n",
       "      <td>0</td>\n",
       "      <td>0</td>\n",
       "      <td>High skill tech staff</td>\n",
       "      <td>1.0</td>\n",
       "      <td>2</td>\n",
       "      <td>SUNDAY</td>\n",
       "      <td>9</td>\n",
       "      <td>0</td>\n",
       "      <td>0</td>\n",
       "      <td>0</td>\n",
       "      <td>0</td>\n",
       "      <td>0</td>\n",
       "      <td>0</td>\n",
       "      <td>Business Entity Type 2</td>\n",
       "      <td>0.197510</td>\n",
       "      <td>NaN</td>\n",
       "      <td>0.059998</td>\n",
       "      <td>0.333252</td>\n",
       "      <td>0.375</td>\n",
       "      <td>0.0</td>\n",
       "      <td>0.102173</td>\n",
       "      <td>not specified</td>\n",
       "      <td>block of flats</td>\n",
       "      <td>Stone, brick</td>\n",
       "      <td>No</td>\n",
       "      <td>...</td>\n",
       "      <td>NaN</td>\n",
       "      <td>NaN</td>\n",
       "      <td>NaN</td>\n",
       "      <td>NaN</td>\n",
       "      <td>NaN</td>\n",
       "      <td>NaN</td>\n",
       "      <td>NaN</td>\n",
       "      <td>NaN</td>\n",
       "      <td>NaN</td>\n",
       "      <td>NaN</td>\n",
       "      <td>NaN</td>\n",
       "      <td>NaN</td>\n",
       "      <td>NaN</td>\n",
       "      <td>NaN</td>\n",
       "      <td>NaN</td>\n",
       "      <td>NaN</td>\n",
       "      <td>NaN</td>\n",
       "      <td>NaN</td>\n",
       "      <td>NaN</td>\n",
       "      <td>NaN</td>\n",
       "      <td>NaN</td>\n",
       "      <td>NaN</td>\n",
       "      <td>NaN</td>\n",
       "      <td>NaN</td>\n",
       "      <td>NaN</td>\n",
       "      <td>NaN</td>\n",
       "      <td>2.0</td>\n",
       "      <td>2.0</td>\n",
       "      <td>0.0</td>\n",
       "      <td>-1629.0</td>\n",
       "      <td>0.0</td>\n",
       "      <td>NaN</td>\n",
       "      <td>0.0</td>\n",
       "      <td>0.0</td>\n",
       "      <td>0.0</td>\n",
       "      <td>1.0</td>\n",
       "      <td>0.0</td>\n",
       "      <td>0.0</td>\n",
       "      <td>0.0</td>\n",
       "      <td>1.500000</td>\n",
       "      <td>0.075000</td>\n",
       "      <td>0.050000</td>\n",
       "      <td>1.000000</td>\n",
       "      <td>0</td>\n",
       "      <td>0.024382</td>\n",
       "      <td>0.364411</td>\n",
       "      <td>0.013091</td>\n",
       "      <td>90000.0</td>\n",
       "      <td>135000.0</td>\n",
       "      <td>2</td>\n",
       "    </tr>\n",
       "    <tr>\n",
       "      <th>3</th>\n",
       "      <td>172092</td>\n",
       "      <td>0</td>\n",
       "      <td>Cash loans</td>\n",
       "      <td>1</td>\n",
       "      <td>0</td>\n",
       "      <td>0</td>\n",
       "      <td>0</td>\n",
       "      <td>121500.0</td>\n",
       "      <td>254700.0</td>\n",
       "      <td>26874.0</td>\n",
       "      <td>225000.0</td>\n",
       "      <td>Unaccompanied</td>\n",
       "      <td>Working</td>\n",
       "      <td>Secondary / secondary special</td>\n",
       "      <td>Married</td>\n",
       "      <td>House / apartment</td>\n",
       "      <td>0.018845</td>\n",
       "      <td>-19119</td>\n",
       "      <td>-2472.0</td>\n",
       "      <td>-10192.0</td>\n",
       "      <td>-2652</td>\n",
       "      <td>NaN</td>\n",
       "      <td>1</td>\n",
       "      <td>0</td>\n",
       "      <td>1</td>\n",
       "      <td>0</td>\n",
       "      <td>0</td>\n",
       "      <td>Low-skill Laborers</td>\n",
       "      <td>2.0</td>\n",
       "      <td>2</td>\n",
       "      <td>WEDNESDAY</td>\n",
       "      <td>13</td>\n",
       "      <td>0</td>\n",
       "      <td>0</td>\n",
       "      <td>0</td>\n",
       "      <td>0</td>\n",
       "      <td>0</td>\n",
       "      <td>0</td>\n",
       "      <td>Business Entity Type 3</td>\n",
       "      <td>0.528809</td>\n",
       "      <td>NaN</td>\n",
       "      <td>NaN</td>\n",
       "      <td>0.166748</td>\n",
       "      <td>NaN</td>\n",
       "      <td>NaN</td>\n",
       "      <td>0.049896</td>\n",
       "      <td>NaN</td>\n",
       "      <td>block of flats</td>\n",
       "      <td>Panel</td>\n",
       "      <td>No</td>\n",
       "      <td>...</td>\n",
       "      <td>6.0</td>\n",
       "      <td>8.0</td>\n",
       "      <td>8.0</td>\n",
       "      <td>Completed</td>\n",
       "      <td>NaN</td>\n",
       "      <td>Repeater</td>\n",
       "      <td>middle</td>\n",
       "      <td>middle</td>\n",
       "      <td>Cash through the bank</td>\n",
       "      <td>Cash through the bank</td>\n",
       "      <td>Cash X-Sell: middle</td>\n",
       "      <td>Unaccompanied</td>\n",
       "      <td>Credit and cash offices</td>\n",
       "      <td>Credit and cash offices</td>\n",
       "      <td>XAP</td>\n",
       "      <td>XAP</td>\n",
       "      <td>7.0</td>\n",
       "      <td>1.0</td>\n",
       "      <td>0.0</td>\n",
       "      <td>7.0</td>\n",
       "      <td>0.0</td>\n",
       "      <td>1.0</td>\n",
       "      <td>0.0</td>\n",
       "      <td>1.0</td>\n",
       "      <td>2.0</td>\n",
       "      <td>5.0</td>\n",
       "      <td>1.0</td>\n",
       "      <td>1.0</td>\n",
       "      <td>0.0</td>\n",
       "      <td>-441.0</td>\n",
       "      <td>NaN</td>\n",
       "      <td>NaN</td>\n",
       "      <td>0.0</td>\n",
       "      <td>0.0</td>\n",
       "      <td>0.0</td>\n",
       "      <td>1.0</td>\n",
       "      <td>0.0</td>\n",
       "      <td>0.0</td>\n",
       "      <td>0.0</td>\n",
       "      <td>2.096296</td>\n",
       "      <td>0.221185</td>\n",
       "      <td>0.105512</td>\n",
       "      <td>0.883392</td>\n",
       "      <td>1</td>\n",
       "      <td>0.129295</td>\n",
       "      <td>0.138710</td>\n",
       "      <td>0.109315</td>\n",
       "      <td>60750.0</td>\n",
       "      <td>127350.0</td>\n",
       "      <td>2</td>\n",
       "    </tr>\n",
       "    <tr>\n",
       "      <th>4</th>\n",
       "      <td>130851</td>\n",
       "      <td>0</td>\n",
       "      <td>Revolving loans</td>\n",
       "      <td>0</td>\n",
       "      <td>0</td>\n",
       "      <td>0</td>\n",
       "      <td>3</td>\n",
       "      <td>112500.0</td>\n",
       "      <td>247500.0</td>\n",
       "      <td>12375.0</td>\n",
       "      <td>247500.0</td>\n",
       "      <td>Unaccompanied</td>\n",
       "      <td>Working</td>\n",
       "      <td>Secondary / secondary special</td>\n",
       "      <td>Widow</td>\n",
       "      <td>House / apartment</td>\n",
       "      <td>0.010643</td>\n",
       "      <td>-14007</td>\n",
       "      <td>-582.0</td>\n",
       "      <td>-8016.0</td>\n",
       "      <td>-4209</td>\n",
       "      <td>NaN</td>\n",
       "      <td>1</td>\n",
       "      <td>0</td>\n",
       "      <td>1</td>\n",
       "      <td>0</td>\n",
       "      <td>0</td>\n",
       "      <td>Waiters/barmen staff</td>\n",
       "      <td>4.0</td>\n",
       "      <td>2</td>\n",
       "      <td>SATURDAY</td>\n",
       "      <td>15</td>\n",
       "      <td>0</td>\n",
       "      <td>0</td>\n",
       "      <td>0</td>\n",
       "      <td>0</td>\n",
       "      <td>1</td>\n",
       "      <td>1</td>\n",
       "      <td>Restaurant</td>\n",
       "      <td>0.434326</td>\n",
       "      <td>0.539062</td>\n",
       "      <td>NaN</td>\n",
       "      <td>NaN</td>\n",
       "      <td>NaN</td>\n",
       "      <td>NaN</td>\n",
       "      <td>NaN</td>\n",
       "      <td>NaN</td>\n",
       "      <td>block of flats</td>\n",
       "      <td>NaN</td>\n",
       "      <td>No</td>\n",
       "      <td>...</td>\n",
       "      <td>4.0</td>\n",
       "      <td>6.0</td>\n",
       "      <td>6.0</td>\n",
       "      <td>Active</td>\n",
       "      <td>NaN</td>\n",
       "      <td>Repeater</td>\n",
       "      <td>low_normal</td>\n",
       "      <td>low_normal</td>\n",
       "      <td>Cash through the bank</td>\n",
       "      <td>Cash through the bank</td>\n",
       "      <td>Cash X-Sell: low</td>\n",
       "      <td>Unaccompanied</td>\n",
       "      <td>Credit and cash offices</td>\n",
       "      <td>Credit and cash offices</td>\n",
       "      <td>XAP</td>\n",
       "      <td>XAP</td>\n",
       "      <td>4.0</td>\n",
       "      <td>2.0</td>\n",
       "      <td>0.0</td>\n",
       "      <td>5.0</td>\n",
       "      <td>1.0</td>\n",
       "      <td>0.0</td>\n",
       "      <td>0.0</td>\n",
       "      <td>3.0</td>\n",
       "      <td>0.0</td>\n",
       "      <td>3.0</td>\n",
       "      <td>4.0</td>\n",
       "      <td>2.0</td>\n",
       "      <td>0.0</td>\n",
       "      <td>-12.0</td>\n",
       "      <td>0.0</td>\n",
       "      <td>NaN</td>\n",
       "      <td>0.0</td>\n",
       "      <td>0.0</td>\n",
       "      <td>0.0</td>\n",
       "      <td>1.0</td>\n",
       "      <td>0.0</td>\n",
       "      <td>1.0</td>\n",
       "      <td>0.0</td>\n",
       "      <td>2.200000</td>\n",
       "      <td>0.110000</td>\n",
       "      <td>0.050000</td>\n",
       "      <td>1.000000</td>\n",
       "      <td>0</td>\n",
       "      <td>0.041551</td>\n",
       "      <td>0.300493</td>\n",
       "      <td>0.123652</td>\n",
       "      <td>28125.0</td>\n",
       "      <td>61875.0</td>\n",
       "      <td>2</td>\n",
       "    </tr>\n",
       "  </tbody>\n",
       "</table>\n",
       "<p>5 rows × 188 columns</p>\n",
       "</div>"
      ],
      "text/plain": [
       "   sk_id_curr  target name_contract_type  code_gender  flag_own_car  \\\n",
       "0      389706       0    Revolving loans            0             0   \n",
       "1      225912       0    Revolving loans            1             0   \n",
       "2      405407       0    Revolving loans            1             0   \n",
       "3      172092       0         Cash loans            1             0   \n",
       "4      130851       0    Revolving loans            0             0   \n",
       "\n",
       "   flag_own_realty  cnt_children  amt_income_total  amt_credit  amt_annuity  \\\n",
       "0                0             2           45000.0    135000.0       6750.0   \n",
       "1                0             1          103500.0    247500.0      12375.0   \n",
       "2                1             0           90000.0    135000.0       6750.0   \n",
       "3                0             0          121500.0    254700.0      26874.0   \n",
       "4                0             3          112500.0    247500.0      12375.0   \n",
       "\n",
       "   amt_goods_price name_type_suite      name_income_type  \\\n",
       "0         135000.0   Unaccompanied               Working   \n",
       "1         247500.0   Unaccompanied               Working   \n",
       "2         135000.0   Unaccompanied  Commercial associate   \n",
       "3         225000.0   Unaccompanied               Working   \n",
       "4         247500.0   Unaccompanied               Working   \n",
       "\n",
       "             name_education_type    name_family_status  name_housing_type  \\\n",
       "0  Secondary / secondary special               Married  House / apartment   \n",
       "1  Secondary / secondary special                 Widow   Rented apartment   \n",
       "2  Secondary / secondary special  Single / not married  House / apartment   \n",
       "3  Secondary / secondary special               Married  House / apartment   \n",
       "4  Secondary / secondary special                 Widow  House / apartment   \n",
       "\n",
       "   region_population_relative  days_birth  days_employed  days_registration  \\\n",
       "0                    0.018204      -13349        -2716.0            -3004.0   \n",
       "1                    0.020706      -15566         -648.0             -649.0   \n",
       "2                    0.025162      -14437         -352.0             -786.0   \n",
       "3                    0.018845      -19119        -2472.0           -10192.0   \n",
       "4                    0.010643      -14007         -582.0            -8016.0   \n",
       "\n",
       "   days_id_publish  own_car_age  flag_mobil  flag_work_phone  \\\n",
       "0            -4335          NaN           1                0   \n",
       "1            -4297          NaN           1                0   \n",
       "2            -5261          NaN           1                0   \n",
       "3            -2652          NaN           1                0   \n",
       "4            -4209          NaN           1                0   \n",
       "\n",
       "   flag_cont_mobile  flag_phone  flag_email        occupation_type  \\\n",
       "0                 1           1           0            Sales staff   \n",
       "1                 1           0           0               Laborers   \n",
       "2                 1           0           0  High skill tech staff   \n",
       "3                 1           0           0     Low-skill Laborers   \n",
       "4                 1           0           0   Waiters/barmen staff   \n",
       "\n",
       "   cnt_fam_members region_rating_client_w_city weekday_appr_process_start  \\\n",
       "0              4.0                           3                   SATURDAY   \n",
       "1              2.0                           2                  WEDNESDAY   \n",
       "2              1.0                           2                     SUNDAY   \n",
       "3              2.0                           2                  WEDNESDAY   \n",
       "4              4.0                           2                   SATURDAY   \n",
       "\n",
       "   hour_appr_process_start  reg_region_not_live_region  \\\n",
       "0                       12                           0   \n",
       "1                        7                           0   \n",
       "2                        9                           0   \n",
       "3                       13                           0   \n",
       "4                       15                           0   \n",
       "\n",
       "   reg_region_not_work_region  live_region_not_work_region  \\\n",
       "0                           0                            0   \n",
       "1                           0                            0   \n",
       "2                           0                            0   \n",
       "3                           0                            0   \n",
       "4                           0                            0   \n",
       "\n",
       "   reg_city_not_live_city  reg_city_not_work_city  live_city_not_work_city  \\\n",
       "0                       0                       0                        0   \n",
       "1                       0                       0                        0   \n",
       "2                       0                       0                        0   \n",
       "3                       0                       0                        0   \n",
       "4                       0                       1                        1   \n",
       "\n",
       "        organization_type  ext_source_2  ext_source_3  basementarea_avg  \\\n",
       "0           Self-employed      0.734375      0.667480               NaN   \n",
       "1        Industry: type 7      0.544922      0.845215               NaN   \n",
       "2  Business Entity Type 2      0.197510           NaN          0.059998   \n",
       "3  Business Entity Type 3      0.528809           NaN               NaN   \n",
       "4              Restaurant      0.434326      0.539062               NaN   \n",
       "\n",
       "   floorsmax_avg  floorsmin_avg  landarea_avg  livingarea_avg  \\\n",
       "0            NaN            NaN           NaN             NaN   \n",
       "1            NaN            NaN           NaN             NaN   \n",
       "2       0.333252          0.375           0.0        0.102173   \n",
       "3       0.166748            NaN           NaN        0.049896   \n",
       "4            NaN            NaN           NaN             NaN   \n",
       "\n",
       "  fondkapremont_mode  housetype_mode wallsmaterial_mode emergencystate_mode  \\\n",
       "0                NaN             NaN                NaN                 NaN   \n",
       "1                NaN             NaN                NaN                 NaN   \n",
       "2      not specified  block of flats       Stone, brick                  No   \n",
       "3                NaN  block of flats              Panel                  No   \n",
       "4                NaN  block of flats                NaN                  No   \n",
       "\n",
       "   ...  nflag_insured_on_approval_sum  nflag_last_appl_per_contract_sum  \\\n",
       "0  ...                            3.0                               5.0   \n",
       "1  ...                            0.0                               1.0   \n",
       "2  ...                            NaN                               NaN   \n",
       "3  ...                            6.0                               8.0   \n",
       "4  ...                            4.0                               6.0   \n",
       "\n",
       "   nflag_last_appl_in_day_sum  pc_latest_contract_status_last  \\\n",
       "0                         5.0                          Active   \n",
       "1                         1.0                       Completed   \n",
       "2                         NaN                             NaN   \n",
       "3                         8.0                       Completed   \n",
       "4                         6.0                          Active   \n",
       "\n",
       "   cr_latest_contract_status_last  name_client_type_last  \\\n",
       "0                             NaN               Repeater   \n",
       "1                             NaN                    New   \n",
       "2                             NaN                    NaN   \n",
       "3                             NaN               Repeater   \n",
       "4                             NaN               Repeater   \n",
       "\n",
       "   name_yield_group_grp_mode  name_yield_group_last  \\\n",
       "0                       high             low_action   \n",
       "1                 low_normal             low_normal   \n",
       "2                        NaN                    NaN   \n",
       "3                     middle                 middle   \n",
       "4                 low_normal             low_normal   \n",
       "\n",
       "   name_payment_type_grp_mode  name_payment_type_last  \\\n",
       "0       Cash through the bank   Cash through the bank   \n",
       "1       Cash through the bank   Cash through the bank   \n",
       "2                         NaN                     NaN   \n",
       "3       Cash through the bank   Cash through the bank   \n",
       "4       Cash through the bank   Cash through the bank   \n",
       "\n",
       "         product_combination_last  name_type_suite_last  \\\n",
       "0  POS household without interest         Unaccompanied   \n",
       "1     POS mobile without interest                   NaN   \n",
       "2                             NaN                   NaN   \n",
       "3             Cash X-Sell: middle         Unaccompanied   \n",
       "4                Cash X-Sell: low         Unaccompanied   \n",
       "\n",
       "     channel_type_grp_mode        channel_type_last  \\\n",
       "0  Credit and cash offices             Country-wide   \n",
       "1             Country-wide             Country-wide   \n",
       "2                      NaN                      NaN   \n",
       "3  Credit and cash offices  Credit and cash offices   \n",
       "4  Credit and cash offices  Credit and cash offices   \n",
       "\n",
       "   code_reject_reason_grp_mode  code_reject_reason_last  \\\n",
       "0                          XAP                      XAP   \n",
       "1                          XAP                      XAP   \n",
       "2                          NaN                      NaN   \n",
       "3                          XAP                      XAP   \n",
       "4                          XAP                      XAP   \n",
       "\n",
       "   prev_cnt_ct_cash_loans  prev_cnt_ct_consumer_loans  \\\n",
       "0                     2.0                         3.0   \n",
       "1                     0.0                         1.0   \n",
       "2                     NaN                         NaN   \n",
       "3                     7.0                         1.0   \n",
       "4                     4.0                         2.0   \n",
       "\n",
       "   prev_cnt_ct_revolving_loans  prev_cnt_cs_approved  prev_cnt_cs_canceled  \\\n",
       "0                          0.0                   4.0                   0.0   \n",
       "1                          0.0                   1.0                   0.0   \n",
       "2                          NaN                   NaN                   NaN   \n",
       "3                          0.0                   7.0                   0.0   \n",
       "4                          0.0                   5.0                   1.0   \n",
       "\n",
       "   prev_cnt_cs_refused  prev_cnt_cs_unused_offer  prev_cnt_pt_xna  \\\n",
       "0                  1.0                       0.0              3.0   \n",
       "1                  0.0                       0.0              1.0   \n",
       "2                  NaN                       NaN              NaN   \n",
       "3                  1.0                       0.0              1.0   \n",
       "4                  0.0                       0.0              3.0   \n",
       "\n",
       "   prev_cnt_pt_walk-in  prev_cnt_pt_x-sell  bc_cnt_loans  bc_cnt_credit_type  \\\n",
       "0                  0.0                 2.0           2.0                 1.0   \n",
       "1                  0.0                 0.0           5.0                 2.0   \n",
       "2                  NaN                 NaN           2.0                 2.0   \n",
       "3                  2.0                 5.0           1.0                 1.0   \n",
       "4                  0.0                 3.0           4.0                 2.0   \n",
       "\n",
       "   bc_sum_cnt_credit_prolong  bc_last_days  bc_amt_max_credit_overdue  \\\n",
       "0                        0.0         -10.0                        0.0   \n",
       "1                        1.0          -6.0                        0.0   \n",
       "2                        0.0       -1629.0                        0.0   \n",
       "3                        0.0        -441.0                        NaN   \n",
       "4                        0.0         -12.0                        0.0   \n",
       "\n",
       "   bb_last_loan_status  bb_cnt_unique_loan_obs  bc_cnt_car_loan  \\\n",
       "0                  NaN                     0.0              0.0   \n",
       "1                  NaN                     0.0              0.0   \n",
       "2                  NaN                     0.0              0.0   \n",
       "3                  NaN                     0.0              0.0   \n",
       "4                  NaN                     0.0              0.0   \n",
       "\n",
       "   bc_cnt_cr_type_others  bc_cnt_credit_card  bc_cnt_mortgage  bc_cnt_active  \\\n",
       "0                    0.0                 0.0              0.0            1.0   \n",
       "1                    0.0                 4.0              0.0            3.0   \n",
       "2                    0.0                 1.0              0.0            0.0   \n",
       "3                    0.0                 1.0              0.0            0.0   \n",
       "4                    0.0                 1.0              0.0            1.0   \n",
       "\n",
       "   bc_cnt_cr_status_others  rt_credit_income  rt_annuity_income  \\\n",
       "0                      0.0          3.000000           0.150000   \n",
       "1                      0.0          2.391304           0.119565   \n",
       "2                      0.0          1.500000           0.075000   \n",
       "3                      0.0          2.096296           0.221185   \n",
       "4                      0.0          2.200000           0.110000   \n",
       "\n",
       "   rt_annuity_credit  rt_goods_price_credit  total_document_flags  \\\n",
       "0           0.050000               1.000000                     0   \n",
       "1           0.050000               1.000000                     0   \n",
       "2           0.050000               1.000000                     0   \n",
       "3           0.105512               0.883392                     1   \n",
       "4           0.050000               1.000000                     0   \n",
       "\n",
       "   rt_days_employed_birth  rt_days_id_birth  rt_phone_changed_birth  \\\n",
       "0                0.203461          0.324743                0.142183   \n",
       "1                0.041629          0.276050                0.027303   \n",
       "2                0.024382          0.364411                0.013091   \n",
       "3                0.129295          0.138710                0.109315   \n",
       "4                0.041551          0.300493                0.123652   \n",
       "\n",
       "   avg_family_income  avg_family_credit  total_contact_flags  \n",
       "0            11250.0            33750.0                    3  \n",
       "1            51750.0           123750.0                    2  \n",
       "2            90000.0           135000.0                    2  \n",
       "3            60750.0           127350.0                    2  \n",
       "4            28125.0            61875.0                    2  \n",
       "\n",
       "[5 rows x 188 columns]"
      ]
     },
     "execution_count": 18,
     "metadata": {},
     "output_type": "execute_result"
    }
   ],
   "source": [
    "df_train.head()"
   ]
  },
  {
   "cell_type": "markdown",
   "id": "adjacent-south",
   "metadata": {},
   "source": [
    "Getting the list of categorical features with more than 2 levels."
   ]
  },
  {
   "cell_type": "code",
   "execution_count": 19,
   "id": "fewer-partner",
   "metadata": {},
   "outputs": [
    {
     "data": {
      "text/plain": [
       "28"
      ]
     },
     "execution_count": 19,
     "metadata": {},
     "output_type": "execute_result"
    }
   ],
   "source": [
    "cat_object_var_path = '../data/interim/cat_encode_features.csv'\n",
    "df_cat_object = pd.read_csv(cat_object_var_path,index_col=0)\n",
    "cat_object_features = list(df_cat_object.cat_object)\n",
    "len(cat_object_features)"
   ]
  },
  {
   "cell_type": "markdown",
   "id": "chicken-coordinate",
   "metadata": {},
   "source": [
    "Getting the list of categorical features with just 2 levels. These features are stored as integers."
   ]
  },
  {
   "cell_type": "code",
   "execution_count": 20,
   "id": "absolute-supervisor",
   "metadata": {},
   "outputs": [
    {
     "data": {
      "text/plain": [
       "34"
      ]
     },
     "execution_count": 20,
     "metadata": {},
     "output_type": "execute_result"
    }
   ],
   "source": [
    "cat_bin_path = '../data/interim/cat_bin_num_features.csv'\n",
    "df_cat_bin_num = pd.read_csv(cat_bin_path,index_col=0)\n",
    "cat_bin_num_features = list(df_cat_bin_num.cat_bin_num)\n",
    "len(cat_bin_num_features)"
   ]
  },
  {
   "cell_type": "markdown",
   "id": "educational-zealand",
   "metadata": {},
   "source": [
    "Finally, remaining features are numerical"
   ]
  },
  {
   "cell_type": "code",
   "execution_count": 21,
   "id": "capable-personality",
   "metadata": {},
   "outputs": [
    {
     "name": "stdout",
     "output_type": "stream",
     "text": [
      "124\n"
     ]
    }
   ],
   "source": [
    "num_features = set(df_train.columns) - (set(cat_object_features) | set(cat_bin_num_features))\n",
    "num_features = list(num_features)\n",
    "num_features.remove('sk_id_curr')\n",
    "num_features.remove('target')\n",
    "print(len(num_features))"
   ]
  },
  {
   "cell_type": "markdown",
   "id": "sealed-laugh",
   "metadata": {},
   "source": [
    "## Evaluation matrix\n",
    "\n",
    "For Home Credit, it is equally important to  \n",
    "\n",
    "1. Avoid customers who are likely to default on the loan and\n",
    "2. Increase customers who are likely to pay back the loan\n",
    "\n",
    "Given this business objective, we will be __using the roc_auc__ matrix as it considers both the classes(default/no default). \n",
    "The pr_auc matrix mainly cares about positive class(default). Hence, we will avoid it."
   ]
  },
  {
   "cell_type": "markdown",
   "id": "olive-jersey",
   "metadata": {},
   "source": [
    "## Modelling Strategy\n",
    "\n",
    "We consider following algorithms for our classification task.\n",
    "\n",
    "1. __Logistic Regression with l1 regularization__ - Logistic regression is a simple linear algorith with descent performance. As we have 180+ features and many are correlated features, we will use l1 regularization for feature selection. \n",
    "2. __XgBoost__ - XgBoost \n",
    "3. __LightGBM__ - LightGBM "
   ]
  },
  {
   "cell_type": "markdown",
   "id": "motivated-control",
   "metadata": {},
   "source": [
    "### Handling missing values\n",
    "1. __Categorical__ features - Create a seperate nan category/level for missing value. We will do this at the time of one-hot-encoding using pandas get_dummy function.\n",
    "2. __Numerical__ features - For logistic regression, we will impute missing values with median because numerical features are highly skewed as observed in EDA. XgBoost & LightGBM can handle missing in a supervised way to optimize perfromance. Hence, we will not impute numerical features for these two algorithms. \n"
   ]
  },
  {
   "cell_type": "markdown",
   "id": "attended-accident",
   "metadata": {},
   "source": [
    "#### Creating dummy variables"
   ]
  },
  {
   "cell_type": "code",
   "execution_count": 11,
   "id": "juvenile-behavior",
   "metadata": {},
   "outputs": [],
   "source": [
    "df_train_dummies = pd.get_dummies(df_train,columns = cat_object_features, dummy_na=True)\n",
    "df_test_dummies = pd.get_dummies(df_test,columns = cat_object_features, dummy_na=True)"
   ]
  },
  {
   "cell_type": "markdown",
   "id": "seventh-local",
   "metadata": {},
   "source": [
    "Aligning test data with train data so that it has same feaures."
   ]
  },
  {
   "cell_type": "code",
   "execution_count": 12,
   "id": "concerned-colony",
   "metadata": {},
   "outputs": [
    {
     "data": {
      "text/plain": [
       "((215249, 423), (92250, 423))"
      ]
     },
     "execution_count": 12,
     "metadata": {},
     "output_type": "execute_result"
    }
   ],
   "source": [
    "#source : https://kanoki.org/2019/08/27/pandas-dataframe-align-function/\n",
    "df_train_dummies, df_test_dummies = df_train_dummies.align(df_test_dummies, join = 'left', axis = 1)\n",
    "df_train_dummies.shape, df_test_dummies.shape"
   ]
  },
  {
   "cell_type": "code",
   "execution_count": 13,
   "id": "flexible-maple",
   "metadata": {},
   "outputs": [],
   "source": [
    "new_features = [ col for col in df_train_dummies.columns if col not in df_train.columns]"
   ]
  },
  {
   "cell_type": "code",
   "execution_count": 14,
   "id": "bronze-rings",
   "metadata": {},
   "outputs": [],
   "source": [
    "X_train = df_train_dummies.drop(columns=['target','sk_id_curr'])\n",
    "y_train = df_train_dummies.target\n",
    "\n",
    "if process_dev_flag == True :\n",
    "    records = 50000\n",
    "    X_train = X_train[:records]\n",
    "    y_train = y_train[:records]\n",
    "\n",
    "X_test = df_test_dummies.drop(columns=['target','sk_id_curr'])\n",
    "y_test = df_test_dummies.target"
   ]
  },
  {
   "cell_type": "markdown",
   "id": "addressed-conditioning",
   "metadata": {},
   "source": [
    "## Validation Strategy\n",
    "\n",
    "We will use __5-fold__ cross-validation strategy on train data for model tunning and modle selection. We will train these 3 models on same set train-validation datasets. To select best hyperparameters, we will use __RandomSearchCV__ technique.  \n",
    "\n",
    "\n",
    "And finally, we will test the performance of the best model on test dataset."
   ]
  },
  {
   "cell_type": "code",
   "execution_count": 15,
   "id": "sustained-addiction",
   "metadata": {},
   "outputs": [],
   "source": [
    "num_folds = 5\n",
    "cv = KFold(n_splits= num_folds, shuffle=True, random_state=random_seed)"
   ]
  },
  {
   "cell_type": "markdown",
   "id": "innovative-hamilton",
   "metadata": {},
   "source": [
    "### Logistic regression \n",
    "We will use median imputation to fill missing values for numerical features using column transformer. As we are using l1 regularization and for greater convergence speed, we will scale these features using StandardScaler.\n",
    "\n",
    "We will tune C (regularization) parameter using RandomSearchCV."
   ]
  },
  {
   "cell_type": "code",
   "execution_count": null,
   "id": "laden-business",
   "metadata": {},
   "outputs": [],
   "source": [
    "numeric_transformer = Pipeline(steps=[\n",
    "                                ('imputer', SimpleImputer(strategy=\"median\")),\n",
    "                                ('scaler',StandardScaler())])\n",
    "\n",
    "preprocessor = ColumnTransformer( \n",
    "                    transformers=[('num', numeric_transformer, num_features)], \n",
    "                    remainder = 'passthrough',\n",
    "                    sparse_threshold=0 ) # to get the dense matrix\n",
    "\n",
    "# saga works with l1 penalty and tol is set to 1e-2 for faster convergence\n",
    "classifier_lr = LogisticRegression(penalty='l1', solver = 'saga', \n",
    "                                   max_iter=500, tol = 1e-2, \n",
    "                                   random_state=random_seed)\n",
    "\n",
    "clf_lr = Pipeline(steps=[\n",
    "                    ('preprocessor', preprocessor),\n",
    "                    ('classifier_lr', classifier_lr)])\n",
    "\n",
    "param_dists = { 'classifier_lr__C': loguniform(1e-2, 1e2) }\n",
    "iterations = 10"
   ]
  },
  {
   "cell_type": "code",
   "execution_count": null,
   "id": "integrated-plaza",
   "metadata": {},
   "outputs": [],
   "source": [
    "%%time\n",
    "cv_lr = RandomizedSearchCV(clf_lr, \n",
    "                           param_distributions=param_dists, \n",
    "                           scoring = 'roc_auc',\n",
    "                           n_iter=iterations, \n",
    "                           cv=cv, \n",
    "                           n_jobs= -2,\n",
    "                           random_state = random_seed)\n",
    "\n",
    "cv_lr.fit(X_train, y_train)"
   ]
  },
  {
   "cell_type": "code",
   "execution_count": null,
   "id": "seven-quantity",
   "metadata": {},
   "outputs": [],
   "source": [
    "cv_lr_results = pd.DataFrame(cv_lr.cv_results_)"
   ]
  },
  {
   "cell_type": "code",
   "execution_count": 16,
   "id": "mobile-replica",
   "metadata": {},
   "outputs": [],
   "source": [
    "# modified from https://inria.github.io\n",
    "def shorten_param_names_pipeline(param_name):\n",
    "    \"\"\"\n",
    "    Shorten the hyperparameter names from CrossValidation results of pipeline.\n",
    "    \n",
    "    Keyword arguments:\n",
    "    param_name -- column name of cv_results_ dataframe\n",
    "    \"\"\"\n",
    "    \n",
    "    if '__' in param_name:\n",
    "        return param_name.rsplit(\"__\", 1)[1]\n",
    "    return param_name\n",
    "\n",
    "def shorten_param_names(param_name):\n",
    "    \"\"\"\n",
    "    Shorten the hyperparameter names from CrossValidation results of model.\n",
    "    \n",
    "    Keyword arguments:\n",
    "    param_name -- column name of cv_results_ dataframe\n",
    "    \"\"\"\n",
    "    \n",
    "    if 'param_' in param_name:\n",
    "        return param_name.replace(\"param_\", \"\")\n",
    "    return param_name"
   ]
  },
  {
   "cell_type": "code",
   "execution_count": 20,
   "id": "minus-recruitment",
   "metadata": {},
   "outputs": [
    {
     "ename": "NameError",
     "evalue": "name 'param_dists' is not defined",
     "output_type": "error",
     "traceback": [
      "\u001b[1;31m---------------------------------------------------------------------------\u001b[0m",
      "\u001b[1;31mNameError\u001b[0m                                 Traceback (most recent call last)",
      "\u001b[1;32m<ipython-input-20-1ec6e92fe3a4>\u001b[0m in \u001b[0;36m<module>\u001b[1;34m\u001b[0m\n\u001b[0;32m      1\u001b[0m \u001b[1;31m# to get only the parameters columns\u001b[0m\u001b[1;33m\u001b[0m\u001b[1;33m\u001b[0m\u001b[1;33m\u001b[0m\u001b[0m\n\u001b[1;32m----> 2\u001b[1;33m \u001b[0mcol_results\u001b[0m \u001b[1;33m=\u001b[0m \u001b[0mcolumn_results\u001b[0m \u001b[1;33m=\u001b[0m \u001b[1;33m[\u001b[0m\u001b[1;34m'param_{}'\u001b[0m\u001b[1;33m.\u001b[0m\u001b[0mformat\u001b[0m\u001b[1;33m(\u001b[0m\u001b[0mname\u001b[0m\u001b[1;33m)\u001b[0m \u001b[1;32mfor\u001b[0m \u001b[0mname\u001b[0m \u001b[1;32min\u001b[0m \u001b[0mparam_dists\u001b[0m\u001b[1;33m.\u001b[0m\u001b[0mkeys\u001b[0m\u001b[1;33m(\u001b[0m\u001b[1;33m)\u001b[0m\u001b[1;33m]\u001b[0m\u001b[1;33m\u001b[0m\u001b[1;33m\u001b[0m\u001b[0m\n\u001b[0m\u001b[0;32m      3\u001b[0m \u001b[1;33m\u001b[0m\u001b[0m\n\u001b[0;32m      4\u001b[0m \u001b[1;31m# add score columns\u001b[0m\u001b[1;33m\u001b[0m\u001b[1;33m\u001b[0m\u001b[1;33m\u001b[0m\u001b[0m\n\u001b[0;32m      5\u001b[0m \u001b[0mcolumn_results\u001b[0m \u001b[1;33m+=\u001b[0m \u001b[1;33m[\u001b[0m\u001b[1;34m'mean_test_score'\u001b[0m\u001b[1;33m,\u001b[0m \u001b[1;34m'std_test_score'\u001b[0m\u001b[1;33m,\u001b[0m \u001b[1;34m'rank_test_score'\u001b[0m\u001b[1;33m]\u001b[0m\u001b[1;33m\u001b[0m\u001b[1;33m\u001b[0m\u001b[0m\n",
      "\u001b[1;31mNameError\u001b[0m: name 'param_dists' is not defined"
     ]
    }
   ],
   "source": [
    "# to get only the parameters columns\n",
    "col_results = column_results = ['param_{}'.format(name) for name in param_dists.keys()]\n",
    "\n",
    "# add score columns\n",
    "column_results += ['mean_test_score', 'std_test_score', 'rank_test_score']\n",
    "\n",
    "cv_lr_results = cv_lr_results[column_results].sort_values(\n",
    "                            'mean_test_score', ascending=False)\n",
    "\n",
    "cv_lr_results.columns = [shorten_param_names_pipeline(col) for col in cv_lr_results.columns]\n",
    "cv_lr_results"
   ]
  },
  {
   "cell_type": "code",
   "execution_count": null,
   "id": "genuine-amino",
   "metadata": {},
   "outputs": [],
   "source": []
  },
  {
   "cell_type": "code",
   "execution_count": null,
   "id": "brazilian-chess",
   "metadata": {},
   "outputs": [],
   "source": []
  },
  {
   "cell_type": "code",
   "execution_count": 20,
   "id": "related-procedure",
   "metadata": {},
   "outputs": [],
   "source": [
    "gpu_params = {'tree_method':'gpu_hist', \n",
    "              'predictor':'gpu_predictor',\n",
    "              'n_jobs': -1}\n",
    "\n",
    "xgb_clf = xgb.XGBClassifier(objective= 'binary:logistic', max_delta_step = 1,\n",
    "                             **gpu_params, use_label_encoder=False, \n",
    "                            seed=random_seed)\n",
    "\n",
    "xgb_param_dists = {'learning_rate': loguniform(0.001, 1),\n",
    "               'max_depth' : [1,4,8,16],\n",
    "               'min_child_weight' : [1,4,8],\n",
    "               'colsample_bytree' : [0.6,0.8],\n",
    "               'subsample' : [0.6,0.8],\n",
    "               'n_estimators' : [200,400,800,1600],\n",
    "               'reg_alpha' : loguniform(0.001, 10) }\n",
    "\n",
    "xgb_iterations = 1"
   ]
  },
  {
   "cell_type": "code",
   "execution_count": 24,
   "id": "antique-chaos",
   "metadata": {},
   "outputs": [
    {
     "name": "stdout",
     "output_type": "stream",
     "text": [
      "Fitting 5 folds for each of 1 candidates, totalling 5 fits\n"
     ]
    },
    {
     "name": "stderr",
     "output_type": "stream",
     "text": [
      "[Parallel(n_jobs=1)]: Using backend SequentialBackend with 1 concurrent workers.\n"
     ]
    },
    {
     "name": "stdout",
     "output_type": "stream",
     "text": [
      "[10:12:34] WARNING: C:/Users/Administrator/workspace/xgboost-win64_release_1.4.0/src/learner.cc:1095: Starting in XGBoost 1.3.0, the default evaluation metric used with the objective 'binary:logistic' was changed from 'error' to 'logloss'. Explicitly set eval_metric if you'd like to restore the old behavior.\n",
      "[10:17:06] WARNING: C:/Users/Administrator/workspace/xgboost-win64_release_1.4.0/src/learner.cc:1095: Starting in XGBoost 1.3.0, the default evaluation metric used with the objective 'binary:logistic' was changed from 'error' to 'logloss'. Explicitly set eval_metric if you'd like to restore the old behavior.\n",
      "[10:21:42] WARNING: C:/Users/Administrator/workspace/xgboost-win64_release_1.4.0/src/learner.cc:1095: Starting in XGBoost 1.3.0, the default evaluation metric used with the objective 'binary:logistic' was changed from 'error' to 'logloss'. Explicitly set eval_metric if you'd like to restore the old behavior.\n",
      "[10:26:15] WARNING: C:/Users/Administrator/workspace/xgboost-win64_release_1.4.0/src/learner.cc:1095: Starting in XGBoost 1.3.0, the default evaluation metric used with the objective 'binary:logistic' was changed from 'error' to 'logloss'. Explicitly set eval_metric if you'd like to restore the old behavior.\n",
      "[10:30:48] WARNING: C:/Users/Administrator/workspace/xgboost-win64_release_1.4.0/src/learner.cc:1095: Starting in XGBoost 1.3.0, the default evaluation metric used with the objective 'binary:logistic' was changed from 'error' to 'logloss'. Explicitly set eval_metric if you'd like to restore the old behavior.\n"
     ]
    },
    {
     "name": "stderr",
     "output_type": "stream",
     "text": [
      "[Parallel(n_jobs=1)]: Done   5 out of   5 | elapsed: 22.8min finished\n"
     ]
    },
    {
     "name": "stdout",
     "output_type": "stream",
     "text": [
      "[10:35:20] WARNING: C:/Users/Administrator/workspace/xgboost-win64_release_1.4.0/src/learner.cc:1095: Starting in XGBoost 1.3.0, the default evaluation metric used with the objective 'binary:logistic' was changed from 'error' to 'logloss'. Explicitly set eval_metric if you'd like to restore the old behavior.\n",
      "Wall time: 28min 7s\n"
     ]
    },
    {
     "data": {
      "text/plain": [
       "RandomizedSearchCV(cv=KFold(n_splits=5, random_state=79, shuffle=True),\n",
       "                   estimator=XGBClassifier(base_score=None, booster=None,\n",
       "                                           colsample_bylevel=None,\n",
       "                                           colsample_bynode=None,\n",
       "                                           colsample_bytree=None, gamma=None,\n",
       "                                           gpu_id=None, importance_type='gain',\n",
       "                                           interaction_constraints=None,\n",
       "                                           learning_rate=None, max_delta_step=1,\n",
       "                                           max_depth=None,\n",
       "                                           min_child_weight=None, missing=nan,\n",
       "                                           m...\n",
       "                   param_distributions={'colsample_bytree': [0.6, 0.8],\n",
       "                                        'learning_rate': <scipy.stats._distn_infrastructure.rv_frozen object at 0x000001F836FE4988>,\n",
       "                                        'max_depth': [1, 4, 8, 16],\n",
       "                                        'min_child_weight': [1, 4, 8],\n",
       "                                        'n_estimators': [200, 400, 800, 1600],\n",
       "                                        'reg_alpha': <scipy.stats._distn_infrastructure.rv_frozen object at 0x000001F836FE4C08>,\n",
       "                                        'subsample': [0.6, 0.8]},\n",
       "                   random_state=79, scoring='roc_auc', verbose=1)"
      ]
     },
     "execution_count": 24,
     "metadata": {},
     "output_type": "execute_result"
    }
   ],
   "source": [
    "%%time\n",
    "xgb_cv = RandomizedSearchCV(xgb_clf, \n",
    "                           param_distributions=xgb_param_dists, \n",
    "                           scoring = 'roc_auc',\n",
    "                           n_iter=xgb_iterations, \n",
    "                           cv=cv, \n",
    "                           random_state = random_seed)\n",
    "\n",
    "xgb_cv.fit(X_train, y_train)"
   ]
  },
  {
   "cell_type": "code",
   "execution_count": 25,
   "id": "alternative-proceeding",
   "metadata": {},
   "outputs": [
    {
     "data": {
      "text/html": [
       "<div>\n",
       "<style scoped>\n",
       "    .dataframe tbody tr th:only-of-type {\n",
       "        vertical-align: middle;\n",
       "    }\n",
       "\n",
       "    .dataframe tbody tr th {\n",
       "        vertical-align: top;\n",
       "    }\n",
       "\n",
       "    .dataframe thead th {\n",
       "        text-align: right;\n",
       "    }\n",
       "</style>\n",
       "<table border=\"1\" class=\"dataframe\">\n",
       "  <thead>\n",
       "    <tr style=\"text-align: right;\">\n",
       "      <th></th>\n",
       "      <th>learning_rate</th>\n",
       "      <th>max_depth</th>\n",
       "      <th>min_child_weight</th>\n",
       "      <th>colsample_bytree</th>\n",
       "      <th>subsample</th>\n",
       "      <th>n_estimators</th>\n",
       "      <th>reg_alpha</th>\n",
       "      <th>mean_test_score</th>\n",
       "      <th>std_test_score</th>\n",
       "      <th>rank_test_score</th>\n",
       "    </tr>\n",
       "  </thead>\n",
       "  <tbody>\n",
       "    <tr>\n",
       "      <th>0</th>\n",
       "      <td>0.015786</td>\n",
       "      <td>16</td>\n",
       "      <td>1</td>\n",
       "      <td>0.8</td>\n",
       "      <td>0.8</td>\n",
       "      <td>200</td>\n",
       "      <td>0.003951</td>\n",
       "      <td>0.760611</td>\n",
       "      <td>0.005622</td>\n",
       "      <td>1</td>\n",
       "    </tr>\n",
       "  </tbody>\n",
       "</table>\n",
       "</div>"
      ],
      "text/plain": [
       "  learning_rate max_depth min_child_weight colsample_bytree subsample  \\\n",
       "0      0.015786        16                1              0.8       0.8   \n",
       "\n",
       "  n_estimators reg_alpha  mean_test_score  std_test_score  rank_test_score  \n",
       "0          200  0.003951         0.760611        0.005622                1  "
      ]
     },
     "execution_count": 25,
     "metadata": {},
     "output_type": "execute_result"
    }
   ],
   "source": [
    "xgb_cv_results = pd.DataFrame(xgb_cv.cv_results_)\n",
    "\n",
    "# to get only the parameters columns\n",
    "col_results = column_results = ['param_{}'.format(name) for name in xgb_param_dists.keys()]\n",
    "\n",
    "# add score columns\n",
    "column_results += ['mean_test_score', 'std_test_score', 'rank_test_score']\n",
    "\n",
    "xgb_cv_results = xgb_cv_results[column_results].sort_values(\n",
    "                            'mean_test_score', ascending=False)\n",
    "\n",
    "xgb_cv_results.columns = [shorten_param_names(col) for col in xgb_cv_results.columns]\n",
    "xgb_cv_results"
   ]
  },
  {
   "cell_type": "code",
   "execution_count": null,
   "id": "empty-myrtle",
   "metadata": {},
   "outputs": [],
   "source": []
  },
  {
   "cell_type": "code",
   "execution_count": 17,
   "id": "casual-pixel",
   "metadata": {},
   "outputs": [],
   "source": [
    "X_col_names = X_train.columns"
   ]
  },
  {
   "cell_type": "code",
   "execution_count": 18,
   "id": "sitting-marking",
   "metadata": {},
   "outputs": [],
   "source": [
    "lgb_clf = lgb.LGBMClassifier(objective= 'binary',\n",
    "                            random_state =random_seed)\n",
    "\n",
    "\n",
    "lgb_param_dists = {\n",
    "            'learning_rate': loguniform(0.01, 1),\n",
    "            'n_estimators': [200,400,800,1600,6400],\n",
    "            'num_leaves': [4,8,16,50],\n",
    "            'min_child_weight' : [1,4,8,16],\n",
    "            'colsample_bytree' : [0.6,0.8],\n",
    "            'subsample' : [0.6,0.8,1],\n",
    "            'reg_alpha': loguniform(0.001, 1)}\n",
    "\n",
    "lgb_iterations = 5"
   ]
  },
  {
   "cell_type": "code",
   "execution_count": 19,
   "id": "round-uniform",
   "metadata": {},
   "outputs": [
    {
     "name": "stdout",
     "output_type": "stream",
     "text": [
      "Fitting 5 folds for each of 5 candidates, totalling 25 fits\n"
     ]
    },
    {
     "name": "stderr",
     "output_type": "stream",
     "text": [
      "[Parallel(n_jobs=-2)]: Using backend LokyBackend with 11 concurrent workers.\n",
      "[Parallel(n_jobs=-2)]: Done  17 out of  25 | elapsed: 39.3min remaining: 18.5min\n",
      "[Parallel(n_jobs=-2)]: Done  25 out of  25 | elapsed: 51.8min finished\n"
     ]
    },
    {
     "name": "stdout",
     "output_type": "stream",
     "text": [
      "Wall time: 52min 56s\n"
     ]
    },
    {
     "data": {
      "text/plain": [
       "RandomizedSearchCV(cv=KFold(n_splits=5, random_state=79, shuffle=True),\n",
       "                   estimator=LGBMClassifier(objective='binary',\n",
       "                                            random_state=79),\n",
       "                   n_iter=5, n_jobs=-2,\n",
       "                   param_distributions={'colsample_bytree': [0.6, 0.8],\n",
       "                                        'learning_rate': <scipy.stats._distn_infrastructure.rv_frozen object at 0x0000024F241FBD08>,\n",
       "                                        'min_child_weight': [1, 4, 8, 16],\n",
       "                                        'n_estimators': [200, 400, 800, 1600,\n",
       "                                                         6400],\n",
       "                                        'num_leaves': [4, 8, 16, 50],\n",
       "                                        'reg_alpha': <scipy.stats._distn_infrastructure.rv_frozen object at 0x0000024F241FB988>,\n",
       "                                        'subsample': [0.6, 0.8, 1]},\n",
       "                   random_state=79, scoring='roc_auc', verbose=2)"
      ]
     },
     "execution_count": 19,
     "metadata": {},
     "output_type": "execute_result"
    }
   ],
   "source": [
    "%%time\n",
    "lgb_cv = RandomizedSearchCV(lgb_clf, \n",
    "                           param_distributions=lgb_param_dists, \n",
    "                           scoring = 'roc_auc',\n",
    "                           n_iter=lgb_iterations, \n",
    "                           cv=cv, \n",
    "                           n_jobs= -2,\n",
    "                           verbose = 2,\n",
    "                           random_state = random_seed)\n",
    "\n",
    "import re\n",
    "X_train = X_train.rename(columns = lambda x:re.sub('[^A-Za-z0-9_]+', '', x))\n",
    "lgb_cv.fit(X_train, y_train)"
   ]
  },
  {
   "cell_type": "code",
   "execution_count": 20,
   "id": "plastic-pottery",
   "metadata": {},
   "outputs": [
    {
     "data": {
      "text/html": [
       "<div>\n",
       "<style scoped>\n",
       "    .dataframe tbody tr th:only-of-type {\n",
       "        vertical-align: middle;\n",
       "    }\n",
       "\n",
       "    .dataframe tbody tr th {\n",
       "        vertical-align: top;\n",
       "    }\n",
       "\n",
       "    .dataframe thead th {\n",
       "        text-align: right;\n",
       "    }\n",
       "</style>\n",
       "<table border=\"1\" class=\"dataframe\">\n",
       "  <thead>\n",
       "    <tr style=\"text-align: right;\">\n",
       "      <th></th>\n",
       "      <th>learning_rate</th>\n",
       "      <th>n_estimators</th>\n",
       "      <th>num_leaves</th>\n",
       "      <th>min_child_weight</th>\n",
       "      <th>colsample_bytree</th>\n",
       "      <th>subsample</th>\n",
       "      <th>reg_alpha</th>\n",
       "      <th>mean_test_score</th>\n",
       "      <th>std_test_score</th>\n",
       "      <th>rank_test_score</th>\n",
       "    </tr>\n",
       "  </thead>\n",
       "  <tbody>\n",
       "    <tr>\n",
       "      <th>1</th>\n",
       "      <td>0.043927</td>\n",
       "      <td>1600</td>\n",
       "      <td>16</td>\n",
       "      <td>8</td>\n",
       "      <td>0.8</td>\n",
       "      <td>1</td>\n",
       "      <td>0.001525</td>\n",
       "      <td>0.778719</td>\n",
       "      <td>0.005248</td>\n",
       "      <td>1</td>\n",
       "    </tr>\n",
       "    <tr>\n",
       "      <th>0</th>\n",
       "      <td>0.062928</td>\n",
       "      <td>6400</td>\n",
       "      <td>4</td>\n",
       "      <td>16</td>\n",
       "      <td>0.8</td>\n",
       "      <td>0.8</td>\n",
       "      <td>0.002802</td>\n",
       "      <td>0.777191</td>\n",
       "      <td>0.004555</td>\n",
       "      <td>2</td>\n",
       "    </tr>\n",
       "    <tr>\n",
       "      <th>4</th>\n",
       "      <td>0.025446</td>\n",
       "      <td>1600</td>\n",
       "      <td>4</td>\n",
       "      <td>16</td>\n",
       "      <td>0.8</td>\n",
       "      <td>1</td>\n",
       "      <td>0.007874</td>\n",
       "      <td>0.776866</td>\n",
       "      <td>0.006033</td>\n",
       "      <td>3</td>\n",
       "    </tr>\n",
       "    <tr>\n",
       "      <th>2</th>\n",
       "      <td>0.014464</td>\n",
       "      <td>6400</td>\n",
       "      <td>50</td>\n",
       "      <td>8</td>\n",
       "      <td>0.8</td>\n",
       "      <td>0.6</td>\n",
       "      <td>0.23987</td>\n",
       "      <td>0.772392</td>\n",
       "      <td>0.004955</td>\n",
       "      <td>4</td>\n",
       "    </tr>\n",
       "    <tr>\n",
       "      <th>3</th>\n",
       "      <td>0.132175</td>\n",
       "      <td>6400</td>\n",
       "      <td>50</td>\n",
       "      <td>16</td>\n",
       "      <td>0.8</td>\n",
       "      <td>0.6</td>\n",
       "      <td>0.010544</td>\n",
       "      <td>0.744030</td>\n",
       "      <td>0.004239</td>\n",
       "      <td>5</td>\n",
       "    </tr>\n",
       "  </tbody>\n",
       "</table>\n",
       "</div>"
      ],
      "text/plain": [
       "  learning_rate n_estimators num_leaves min_child_weight colsample_bytree  \\\n",
       "1      0.043927         1600         16                8              0.8   \n",
       "0      0.062928         6400          4               16              0.8   \n",
       "4      0.025446         1600          4               16              0.8   \n",
       "2      0.014464         6400         50                8              0.8   \n",
       "3      0.132175         6400         50               16              0.8   \n",
       "\n",
       "  subsample reg_alpha  mean_test_score  std_test_score  rank_test_score  \n",
       "1         1  0.001525         0.778719        0.005248                1  \n",
       "0       0.8  0.002802         0.777191        0.004555                2  \n",
       "4         1  0.007874         0.776866        0.006033                3  \n",
       "2       0.6   0.23987         0.772392        0.004955                4  \n",
       "3       0.6  0.010544         0.744030        0.004239                5  "
      ]
     },
     "execution_count": 20,
     "metadata": {},
     "output_type": "execute_result"
    }
   ],
   "source": [
    "lgb_cv_results = pd.DataFrame(lgb_cv.cv_results_)\n",
    "\n",
    "# to get only the parameters columns\n",
    "col_results = column_results = ['param_{}'.format(name) for name in lgb_param_dists.keys()]\n",
    "\n",
    "# add score columns\n",
    "column_results += ['mean_test_score', 'std_test_score', 'rank_test_score']\n",
    "\n",
    "lgb_cv_results = lgb_cv_results[column_results].sort_values(\n",
    "                            'mean_test_score', ascending=False)\n",
    "\n",
    "lgb_cv_results.columns = [shorten_param_names(col) for col in lgb_cv_results.columns]\n",
    "lgb_cv_results"
   ]
  },
  {
   "cell_type": "code",
   "execution_count": 21,
   "id": "infectious-afghanistan",
   "metadata": {},
   "outputs": [
    {
     "data": {
      "text/plain": [
       "{'colsample_bytree': 0.80,\n",
       " 'learning_rate': 0.0439266479272964,\n",
       " 'min_child_weight': 8,\n",
       " 'n_estimators': 1600,\n",
       " 'num_leaves': 16,\n",
       " 'reg_alpha': 0.0015249981951798595,\n",
       " 'subsample': 1}"
      ]
     },
     "execution_count": 21,
     "metadata": {},
     "output_type": "execute_result"
    }
   ],
   "source": [
    "lgb_cv.best_params_"
   ]
  },
  {
   "cell_type": "code",
   "execution_count": 22,
   "id": "stylish-supply",
   "metadata": {},
   "outputs": [],
   "source": [
    "best_model = lgb_cv.best_estimator_"
   ]
  },
  {
   "cell_type": "code",
   "execution_count": 23,
   "id": "headed-matter",
   "metadata": {},
   "outputs": [
    {
     "data": {
      "image/png": "[encoded data removed]",
      "text/plain": [
       "<Figure size 576x864 with 1 Axes>"
      ]
     },
     "metadata": {
      "needs_background": "light"
     },
     "output_type": "display_data"
    }
   ],
   "source": [
    "df_feature_imp = pd.DataFrame(X_train.columns,columns=['feature'])\n",
    "df_feature_imp['importance_gains'] = best_model.booster_.feature_importance(importance_type='gain')\n",
    "df_feature_imp['importance_split'] = best_model.booster_.feature_importance(importance_type='split')\n",
    "\n",
    "df_feature_imp.sort_values(by='importance_gains', ascending=False, inplace=True)\n",
    "df_featture_imp_top = df_feature_imp.head(20)\n",
    "\n",
    "fig, ax = plt.subplots(figsize=(8,12))\n",
    "sns.barplot(x ='importance_gains', y='feature', data = df_featture_imp_top)\n",
    "plt.title('Feature Importance(Gains) - Top 20')\n",
    "plt.show()"
   ]
  },
  {
   "cell_type": "code",
   "execution_count": 24,
   "id": "illegal-garden",
   "metadata": {},
   "outputs": [
    {
     "data": {
      "image/png": "[encoded data removed]",
      "text/plain": [
       "<Figure size 576x864 with 1 Axes>"
      ]
     },
     "metadata": {
      "needs_background": "light"
     },
     "output_type": "display_data"
    }
   ],
   "source": [
    "df_feature_imp.sort_values(by='importance_split', ascending=False, inplace=True)\n",
    "df_featture_imp_top = df_feature_imp.head(20)\n",
    "\n",
    "fig, ax = plt.subplots(figsize=(8,12))\n",
    "sns.barplot(x ='importance_split', y='feature', data = df_featture_imp_top)\n",
    "plt.title('Feature Importance(Split) - Top 20')\n",
    "plt.show()"
   ]
  },
  {
   "cell_type": "code",
   "execution_count": 25,
   "id": "hollow-production",
   "metadata": {},
   "outputs": [
    {
     "data": {
      "text/plain": [
       "0.7824892779239774"
      ]
     },
     "execution_count": 25,
     "metadata": {},
     "output_type": "execute_result"
    }
   ],
   "source": [
    "y_pred_probs = best_model.predict_proba(X_test)[:,1]\n",
    "roc_auc_score(y_test.values, y_pred_probs)"
   ]
  },
  {
   "cell_type": "code",
   "execution_count": 26,
   "id": "reliable-maple",
   "metadata": {},
   "outputs": [],
   "source": [
    "fpr, tpr, thresholds = roc_curve(y_test.values, y_pred_probs)"
   ]
  },
  {
   "cell_type": "code",
   "execution_count": 27,
   "id": "prescription-indiana",
   "metadata": {},
   "outputs": [
    {
     "name": "stdout",
     "output_type": "stream",
     "text": [
      "Best Threshold=0.074195\n"
     ]
    }
   ],
   "source": [
    "# To get the best threshold, we will use J statistics\n",
    "# source : https://machinelearningmastery.com/threshold-moving-for-imbalanced-classification/\n",
    "j_stat = tpr - fpr\n",
    "ix = np.argmax(j_stat)\n",
    "best_thresh = thresholds[ix]\n",
    "print('Best Threshold=%f' % (best_thresh))"
   ]
  },
  {
   "cell_type": "code",
   "execution_count": 28,
   "id": "tribal-monitor",
   "metadata": {},
   "outputs": [
    {
     "data": {
      "image/png": "[encoded data removed]",
      "text/plain": [
       "<Figure size 432x432 with 1 Axes>"
      ]
     },
     "metadata": {
      "needs_background": "light"
     },
     "output_type": "display_data"
    }
   ],
   "source": [
    "# plot the roc curve for the model\n",
    "fig, ax = plt.subplots(figsize=(6,6))\n",
    "plt.plot([0,1], [0,1], linestyle='--', label='Chance', color='k', alpha= 0.5)\n",
    "plt.plot(fpr, tpr, linestyle='-',label='Light gbm', color='brown', alpha= 0.7)\n",
    "plt.scatter(fpr[ix], tpr[ix], marker='o', s=200, color='orange', label='Best Threshold')\n",
    "# axis labels\n",
    "plt.xlabel('False Positive Rate')\n",
    "plt.ylabel('True Positive Rate')\n",
    "plt.legend()\n",
    "# show the plot\n",
    "plt.show()"
   ]
  },
  {
   "cell_type": "code",
   "execution_count": 29,
   "id": "human-signature",
   "metadata": {},
   "outputs": [
    {
     "name": "stdout",
     "output_type": "stream",
     "text": [
      "Best Threshold: 0.0742\n",
      "Corresponding fpr : 0.2972 and tpr: 0.7237\n"
     ]
    }
   ],
   "source": [
    "# Corresponding fpr & tpr\n",
    "print('Best Threshold: {}'.format(round(best_thresh,4)))\n",
    "print('Corresponding fpr : {} and tpr: {}'.format(round(fpr[ix],4), round(tpr[ix],4)))"
   ]
  },
  {
   "cell_type": "code",
   "execution_count": 30,
   "id": "infrared-absolute",
   "metadata": {},
   "outputs": [],
   "source": [
    "def get_confusion_matrix(y_probabilities, y_true, threshold):\n",
    "    \"\"\"\n",
    "    Get the confusion matrix using specified threshold\n",
    "    \n",
    "    Keyword arguments:\n",
    "    y_probabilities -- predicted probabilities of positive class\n",
    "    y_true -- true value of y\n",
    "    threshold -- threshold to use to get 0/1 prediction\n",
    "    \n",
    "    Returns :\n",
    "    2*2 confusion_matrix\n",
    "    \"\"\"\n",
    "    y_pred = np.zeros(y_true.shape)\n",
    "    y_pred = np.where( y_probabilities > threshold ,1, 0 )\n",
    "    return confusion_matrix(y_test, y_pred)\n",
    "\n",
    "conf_matx = get_confusion_matrix(y_pred_probs, y_test, best_thresh)"
   ]
  },
  {
   "cell_type": "code",
   "execution_count": 93,
   "id": "adequate-daniel",
   "metadata": {},
   "outputs": [
    {
     "data": {
      "image/png": "[encoded data removed]",
      "text/plain": [
       "<Figure size 1152x288 with 4 Axes>"
      ]
     },
     "metadata": {
      "needs_background": "light"
     },
     "output_type": "display_data"
    }
   ],
   "source": [
    "def custom_plot_confusion_matrix(confusion_matrix_array):\n",
    "    \"\"\"\n",
    "    Plot the confusion matrix\n",
    "    \n",
    "    Keyword arguments:\n",
    "    confusion_matrix -- 2*2 confusion matrix\n",
    "    \"\"\"\n",
    "    \n",
    "    fig, ax = plt.subplots(1,2, figsize=(16,4))\n",
    "    display_labels = ['Paid', 'Default']\n",
    "    sns.heatmap(confusion_matrix_array, xticklabels = display_labels, yticklabels = display_labels, \n",
    "                annot=True, cmap='Greens', fmt='d', annot_kws={\"size\": 15}, ax=ax[0])\n",
    "    ax[0].set_ylabel('True label')\n",
    "    ax[0].set_xlabel('Predicted label')\n",
    "    ax[0].set_title('Confusion Matrix')\n",
    "    \n",
    "    confusion_matrix_norm = confusion_matrix_array/confusion_matrix_array.sum(axis=1).reshape(-1,1)\n",
    "    sns.heatmap(confusion_matrix_norm, xticklabels = display_labels, yticklabels = display_labels, \n",
    "                annot=True, cmap='Greens', fmt=\".2%\", annot_kws={\"size\": 15}, ax=ax[1])\n",
    "    ax[1].set_ylabel('True label')\n",
    "    ax[1].set_xlabel('Predicted label')\n",
    "    ax[1].set_title('Confusion Matrix - Normalized')\n",
    "    \n",
    "    \n",
    "custom_plot_confusion_matrix(conf_matx)"
   ]
  },
  {
   "cell_type": "code",
   "execution_count": 84,
   "id": "dominant-istanbul",
   "metadata": {},
   "outputs": [
    {
     "data": {
      "text/plain": [
       "(601969.81, 554235.12)"
      ]
     },
     "execution_count": 84,
     "metadata": {},
     "output_type": "execute_result"
    }
   ],
   "source": [
    "mean_credit_paid = df_test.loc[df_test.target==0, ].amt_credit.mean()\n",
    "mean_credit_default = df_test.loc[df_test.target==1, ].amt_credit.mean()\n",
    "mean_credit_paid,mean_credit_default"
   ]
  },
  {
   "cell_type": "code",
   "execution_count": 85,
   "id": "latter-evaluation",
   "metadata": {},
   "outputs": [],
   "source": [
    "profit_on_paid_loans = 0.05\n",
    "loss_on_default_loans = 0.40\n",
    "\n",
    "class cls_business_params:\n",
    "    \"\"\"\n",
    "    Class to store business information regarding loan size, profit/loss\n",
    "    set_business_params - to set the values of business parameters\n",
    "    get_business_params - to get the values of business parameters\n",
    "    \"\"\"\n",
    "\n",
    "    def __init__(self,mean_credit_paid,mean_credit_default,profit_on_paid_loans,loss_on_default_loans): \n",
    "        # instance as passed as a first agrument. Referred as self\n",
    "        self.mean_credit_paid = mean_credit_paid\n",
    "        self.mean_credit_default = mean_credit_default\n",
    "        self.profit_on_paid_loans = profit_on_paid_loans\n",
    "        self.loss_on_default_loans = loss_on_default_loans\n",
    "        \n",
    "    def set_business_params(mean_credit_paid,mean_credit_default,profit_on_paid_loans,loss_on_default_loans):\n",
    "        self.mean_credit_paid = mean_credit_paid\n",
    "        self.mean_credit_default = mean_credit_default\n",
    "        self.profit_on_paid_loans = profit_on_paid_loans\n",
    "        self.loss_on_default_loans = loss_on_default_loans        \n",
    "    \n",
    "    def get_business_params(self):\n",
    "        return mean_credit_paid, mean_credit_default, profit_on_paid_loans, loss_on_default_loans\n",
    "    \n",
    "business_params = cls_business_params(mean_credit_paid,mean_credit_default,profit_on_paid_loans,loss_on_default_loans)"
   ]
  },
  {
   "cell_type": "code",
   "execution_count": 86,
   "id": "pointed-custom",
   "metadata": {},
   "outputs": [],
   "source": [
    "def calculate_expectancy(confusion_matrix_array, business_params):\n",
    "    \"\"\"\n",
    "    Calculates  business expectancy/profit \n",
    "    \n",
    "    Keyword arguments:\n",
    "    confusion_matrix -- to set the values of business parameters\n",
    "    business_params -- instance of  business_params containing profit,/loss, loan size values\n",
    "    Returns :\n",
    "    expectancy -- profit/loss based on confusion matrix and business parameters\n",
    "    \"\"\"\n",
    "    tn, fp, fn, tp = confusion_matrix_array.flatten()\n",
    "    mean_credit_paid, mean_credit_default, profit_on_paid_loans, loss_on_default_loans = business_params.get_business_params()\n",
    "\n",
    "    expectancy = (tn * mean_credit_paid * profit_on_paid_loans         # profit from fully paid loans\n",
    "                + tp * mean_credit_default * loss_on_default_loans     # notional profit from avoiding defaults \n",
    "                - fp * mean_credit_paid * profit_on_paid_loans         # notional loss from avoiding potentially paid back loans\n",
    "                - fn * mean_credit_default * loss_on_default_loans)    # loss from deafults on loans\n",
    "\n",
    "    return expectancy"
   ]
  },
  {
   "cell_type": "code",
   "execution_count": 133,
   "id": "celtic-fellowship",
   "metadata": {},
   "outputs": [],
   "source": [
    "def plot_profitability_curve(y_probabilities, y_true, business_params):\n",
    "    \"\"\"\n",
    "    Plots profit against thresholds for positive class\n",
    "    \n",
    "    Keyword arguments:\n",
    "    y_probabilities -- predicted probabilities of positive class\n",
    "    y_true -- true value of y\n",
    "    business_params -- instance of  business_params containing profit,/loss, loan size values\n",
    "    Returns :\n",
    "    max_profit -- maximum profit achievable with business constraints and model capabilities\n",
    "    max_profit_threshold -- positive class threshold associated with maximum profit\n",
    "    \"\"\"\n",
    "\n",
    "    thresholds = np.linspace(0,1,30)\n",
    "    expectancy = []\n",
    "    for threshold in thresholds:\n",
    "        conf_matx = get_confusion_matrix(y_probabilities, y_true, threshold)\n",
    "        expt = calculate_expectancy(conf_matx, business_params)\n",
    "        expectancy.append(expt)\n",
    "    \n",
    "    idx = np.argmax(expectancy)\n",
    "    max_profit = np.max(expectancy)\n",
    "    max_profit_threshold = thresholds[idx]\n",
    "\n",
    "    fig, ax = plt.subplots(figsize=(7,5))\n",
    "    plt.plot(thresholds, expectancy, linestyle='-',label='profit', color='brown', alpha= 0.7)\n",
    "    #plt.scatter(max_profit_threshold, max_profit, marker='o', s=200, color='orange', label='Best Threshold')\n",
    "    max_profit_fmt = 'profit: {0:.1f} billion'.format(max_profit/1e9)\n",
    "    max_profit_fmt  \n",
    "    ax.annotate(max_profit_fmt, xy=(max_profit_threshold, max_profit),  xycoords='data',\n",
    "            xytext=(0.5, 0.9), textcoords='axes fraction',\n",
    "            arrowprops=dict(facecolor='black', shrink=0.05),\n",
    "            horizontalalignment='right', verticalalignment='top',\n",
    "            fontsize=12)\n",
    "    \n",
    "    plt.xlabel('Thresholds')\n",
    "    plt.ylabel('Profits')\n",
    "    plt.legend()\n",
    "    plt.title('Profitability Curve')\n",
    "    plt.show()\n",
    "    \n",
    "    return max_profit, max_profit_threshold"
   ]
  },
  {
   "cell_type": "code",
   "execution_count": 134,
   "id": "unusual-sodium",
   "metadata": {},
   "outputs": [
    {
     "data": {
      "image/png": "[encoded data removed]",
      "text/plain": [
       "<Figure size 504x360 with 1 Axes>"
      ]
     },
     "metadata": {
      "needs_background": "light"
     },
     "output_type": "display_data"
    }
   ],
   "source": [
    "max_profit, max_profit_threshold = plot_profitability_curve(y_pred_probs, y_test, business_params)"
   ]
  },
  {
   "cell_type": "code",
   "execution_count": 135,
   "id": "cooperative-zambia",
   "metadata": {},
   "outputs": [
    {
     "data": {
      "image/png": "[encoded data removed]",
      "text/plain": [
       "<Figure size 1152x288 with 4 Axes>"
      ]
     },
     "metadata": {
      "needs_background": "light"
     },
     "output_type": "display_data"
    }
   ],
   "source": [
    "max_profit_conf_matx = get_confusion_matrix(y_pred_probs, y_test, max_profit_threshold)\n",
    "custom_plot_confusion_matrix(max_profit_conf_matx)"
   ]
  },
  {
   "cell_type": "code",
   "execution_count": 90,
   "id": "virtual-command",
   "metadata": {},
   "outputs": [
    {
     "name": "stdout",
     "output_type": "stream",
     "text": [
      "Profit Maximizing Threshold: 0.1034\n",
      "Corresponding Profit : 1881133042\n"
     ]
    }
   ],
   "source": []
  },
  {
   "cell_type": "code",
   "execution_count": null,
   "id": "false-affair",
   "metadata": {},
   "outputs": [],
   "source": [
    "Add classification report,"
   ]
  },
  {
   "cell_type": "code",
   "execution_count": 5,
   "id": "hidden-sentence",
   "metadata": {},
   "outputs": [
    {
     "name": "stdout",
     "output_type": "stream",
     "text": [
      "0.786366\n"
     ]
    }
   ],
   "source": [
    "x = 0.781403 + 0.004963\n",
    "print(x)"
   ]
  },
  {
   "cell_type": "code",
   "execution_count": 8,
   "id": "sharp-devil",
   "metadata": {},
   "outputs": [],
   "source": [
    "df = pd.DataFrame(['gender','income'],columns=['col'])\n",
    "df_2 = pd.DataFrame(['gender','occupation'],columns=['col'])\n",
    "set(df.col) & set(df_2.col)"
   ]
  },
  {
   "cell_type": "code",
   "execution_count": 23,
   "id": "inner-combination",
   "metadata": {},
   "outputs": [
    {
     "data": {
      "text/plain": [
       "0.06769834006197474"
      ]
     },
     "execution_count": 23,
     "metadata": {},
     "output_type": "execute_result"
    }
   ],
   "source": [
    "df_train.loan_durtn_1st_ver_mean.isna().mean()"
   ]
  },
  {
   "cell_type": "code",
   "execution_count": 24,
   "id": "hearing-production",
   "metadata": {},
   "outputs": [
    {
     "data": {
      "text/plain": [
       "0.03443514502411063"
      ]
     },
     "execution_count": 24,
     "metadata": {},
     "output_type": "execute_result"
    }
   ],
   "source": [
    "1.9*1e9/df_test.amt_credit.sum()"
   ]
  },
  {
   "cell_type": "code",
   "execution_count": 26,
   "id": "respected-while",
   "metadata": {},
   "outputs": [
    {
     "name": "stdout",
     "output_type": "stream",
     "text": [
      "0.7861 0.7767\n"
     ]
    }
   ],
   "source": [
    "x = 0.7814 + 0.0047\n",
    "y = 0.7814 - 0.0047\n",
    "print(x,y)"
   ]
  },
  {
   "cell_type": "code",
   "execution_count": 29,
   "id": "bibliographic-foundation",
   "metadata": {},
   "outputs": [
    {
     "data": {
      "text/plain": [
       "(7448, 84802)"
      ]
     },
     "execution_count": 29,
     "metadata": {},
     "output_type": "execute_result"
    }
   ],
   "source": [
    "cnt_default = df_test.target.sum()\n",
    "cnt_paid = df_test.shape[0] - cnt_default\n",
    "cnt_default,cnt_paid"
   ]
  },
  {
   "cell_type": "code",
   "execution_count": 30,
   "id": "continental-stocks",
   "metadata": {},
   "outputs": [
    {
     "data": {
      "text/plain": [
       "23872944644.306"
      ]
     },
     "execution_count": 30,
     "metadata": {},
     "output_type": "execute_result"
    }
   ],
   "source": [
    "cnt_paid*0.5*601969.81 - cnt_default*0.4*554235.12"
   ]
  },
  {
   "cell_type": "markdown",
   "id": "capable-channel",
   "metadata": {},
   "source": [
    "change in tolerance : \n",
    "https://stats.stackexchange.com/questions/255375/what-exactly-is-tol-tolerance-used-as-stopping-criteria-in-sklearn-models\n",
    "\n",
    "max_delta_step : xgboost document, for imbalanced class convergence\n",
    "https://xgboost.readthedocs.io/en/latest/tutorials/param_tuning.html\n",
    "\n",
    "auc_roc : \n",
    "https://www.kaggle.com/c/ieee-fraud-detection/discussion/99982  \n",
    "https://neptune.ai/blog/f1-score-accuracy-roc-auc-pr-auc\n",
    "\n",
    "comparison of roc & pr curve - imbalanced data\n",
    "https://sinyi-chou.github.io/classification-pr-curve/\n",
    "\n",
    "https://www.ritchieng.com/machine-learning-evaluate-classification-model/\n",
    "\n",
    "pr_auc\n",
    "https://sinyi-chou.github.io/python-sklearn-precision-recall/  \n",
    "https://sanchom.wordpress.com/tag/average-precision/   \n",
    "https://medium.com/analytics-vidhya/precision-recall-tradeoff-for-real-world-use-cases-c6de4fabbcd0   \n",
    "\n",
    "More on roc :\n",
    "https://community.tibco.com/wiki/gains-vs-roc-curves-do-you-understand-difference\n",
    "\n",
    "probabilistic interpretation of roc\n",
    "https://madrury.github.io/jekyll/update/statistics/2017/06/21/auc-proof.html\n",
    "\n",
    "Profitability curve :\n",
    "https://community.datarobot.com/t5/resources/describing-and-evaluating-models/ta-p/1491\n",
    "\n",
    "Evaluating Classifiers\n",
    "https://www.svds.com/classifiers2/   \n",
    "https://www.svds.com/evaluating-data-science-projects/    \n"
   ]
  }
 ],
 "metadata": {
  "kernelspec": {
   "display_name": "Python 3",
   "language": "python",
   "name": "python3"
  },
  "language_info": {
   "codemirror_mode": {
    "name": "ipython",
    "version": 3
   },
   "file_extension": ".py",
   "mimetype": "text/x-python",
   "name": "python",
   "nbconvert_exporter": "python",
   "pygments_lexer": "ipython3",
   "version": "3.7.9"
  }
 },
 "nbformat": 4,
 "nbformat_minor": 5
}
